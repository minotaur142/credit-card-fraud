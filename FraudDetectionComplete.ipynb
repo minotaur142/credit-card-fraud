{
 "cells": [
  {
   "cell_type": "code",
   "execution_count": 1,
   "metadata": {},
   "outputs": [
    {
     "name": "stderr",
     "output_type": "stream",
     "text": [
      "/Users/remycanario/anaconda3/lib/python3.7/site-packages/statsmodels/compat/pandas.py:23: FutureWarning: The Panel class is removed from pandas. Accessing it from the top-level namespace will also be removed in the next version\n",
      "  data_klasses = (pandas.Series, pandas.DataFrame, pandas.Panel)\n",
      "Using TensorFlow backend.\n"
     ]
    }
   ],
   "source": [
    "import pandas as pd\n",
    "import numpy as np\n",
    "import torch\n",
    "import torch.nn as nn\n",
    "from sklearn.model_selection import train_test_split\n",
    "from sklearn.preprocessing import StandardScaler\n",
    "import tqdm\n",
    "import torch.nn.functional as F\n",
    "import tqdm\n",
    "import FirthLogit\n",
    "from imblearn.over_sampling import SMOTE\n",
    "import datetime\n",
    "from statsmodels.discrete.discrete_model import Logit\n",
    "from statsmodels.tools.tools import add_constant\n",
    "from torch.optim.lr_scheduler import ReduceLROnPlateau\n",
    "from sklearn.metrics import roc_auc_score\n",
    "from sklearn.metrics import recall_score\n",
    "from sklearn.metrics import log_loss\n",
    "import warnings\n",
    "warnings.filterwarnings('ignore')\n",
    "from sklearn.linear_model import LogisticRegression\n",
    "import random\n",
    "from keras import regularizers\n",
    "from keras import models,layers,optimizers\n",
    "from keras.utils import to_categorical\n",
    "from keras.callbacks import ModelCheckpoint\n",
    "from keras.callbacks.callbacks import ReduceLROnPlateau\n",
    "import matplotlib.pyplot as plt \n",
    "%matplotlib inline\n",
    "from sklearn.metrics import accuracy_score\n",
    "import testingFirth"
   ]
  },
  {
   "cell_type": "markdown",
   "metadata": {},
   "source": [
    "# Data Preprocessing"
   ]
  },
  {
   "cell_type": "code",
   "execution_count": 2,
   "metadata": {},
   "outputs": [],
   "source": [
    "df = pd.read_csv('creditcard.csv')\n",
    "\n",
    "time_df = pd.DataFrame(df.Time)\n",
    "time_df['hour_dummy']=(time_df.Time/(60*60)).round().astype(str)\n",
    "time_df['day_dummy']=(time_df.Time/(60*60*24)).round().astype(str)\n",
    "time_df = pd.get_dummies(time_df,drop_first=True).drop('Time',axis=1)\n",
    "df.drop('Time',axis=1,inplace=True)\n",
    "\n",
    "df['cents'] = df.Amount.apply(lambda x: int(str(x).split('.')[1]))\n",
    "df.Amount[df.Amount!=0] = np.log(df.Amount[df.Amount!=0])\n",
    "\n",
    "X = df.drop('Class',axis=1)\n",
    "y = df.Class\n",
    "\n",
    "X_train, X_val, y_train, y_val = train_test_split(X,y,test_size=0.2,random_state=0)\n",
    "time_train, time_val = train_test_split(time_df,test_size=0.2,random_state=0)"
   ]
  },
  {
   "cell_type": "markdown",
   "metadata": {},
   "source": [
    "# Obtain bagged logistic regression with penalized MLE results"
   ]
  },
  {
   "cell_type": "code",
   "execution_count": 12,
   "metadata": {},
   "outputs": [],
   "source": [
    "def get_bagged_PMLE_results(X_train,y_train,functions,function_labels,iterations=20):\n",
    "    train = dict.fromkeys(function_labels,np.zeros(X_train.shape[0]))\n",
    "    val = dict.fromkeys(function_labels,np.zeros(X_val.shape[0]))\n",
    "    for i in range(iterations):\n",
    "        print('Epoch', i+1)\n",
    "        X = X_train[y_train==1].sample(frac=0.05).append(X_train[y_train==0].sample(frac=0.05))\n",
    "        y = y_train.loc[X.index]\n",
    "        for j in range(len(functions)):\n",
    "            print(function_labels[i])\n",
    "            functions[j].fit(X,y)\n",
    "            train[function_labels[j]] = ((i)*train[function_labels[j]] + functions[j].predict_proba(X_train))/(i+1)\n",
    "            val[function_labels[j]] =  ((i)*val[function_labels[j]] + functions[j].predict_proba(X_val))/(i+1)\n",
    "    return train, val\n"
   ]
  },
  {
   "cell_type": "code",
   "execution_count": null,
   "metadata": {},
   "outputs": [],
   "source": [
    "firth = PMLE.PMLE.Firth_Logit(num_iters=125,lr=0.05, metric='recall_score', readout_rate=10)\n",
    "FLIC = PMLE.PMLE.Firth_Logit(num_iters=125,lr=0.05,FLIC=True, metric='recall_score', readout_rate=10)\n",
    "t_firth = PMLE.PMLE.Firth_Logit(num_iters=125,lr=0.05,lmbda=0.01, metric='recall_score', readout_rate=10)\n",
    "\n",
    "functions = [firth, FLIC, t_firth]\n",
    "function_labels = ['firth','FLIC','t_firth']\n",
    "\n",
    "train_results, val_results = get_bagged_PMLE_results(X_train,y_train,functions,function_labels,iterations=1)\n",
    "\n",
    "train_results = pd.DataFrame.from_dict(train_results)\n",
    "train_results.index = X_train.index\n",
    "val_results = pd.DataFrame.from_dict(val_results)\n",
    "val_results.index = X_val.index"
   ]
  },
  {
   "cell_type": "code",
   "execution_count": 3,
   "metadata": {},
   "outputs": [],
   "source": [
    "test_X = X_train.sample(frac=0.05)\n",
    "test_y = y_train.loc[test_X.index]\n",
    "X_val = X_val.sample(frac=0.05)\n",
    "tf = testingFirth.testingFirth(num_iters=1,lr=0.01)"
   ]
  },
  {
   "cell_type": "code",
   "execution_count": 4,
   "metadata": {},
   "outputs": [],
   "source": [
    "firth_results, flac_results, flic_results = tf.fit(test_X,test_y,X_val)"
   ]
  },
  {
   "cell_type": "markdown",
   "metadata": {},
   "source": [
    "# Autoencoder Anomaly Detection\n",
    "### With undercomplete, regularized and denoising autoencoders using pytorch"
   ]
  },
  {
   "cell_type": "markdown",
   "metadata": {},
   "source": [
    "## Data Processing"
   ]
  },
  {
   "cell_type": "code",
   "execution_count": 56,
   "metadata": {},
   "outputs": [],
   "source": [
    "# identify non-fraud rows\n",
    "normal_inds = y_train[y_train==0].reset_index().index\n",
    "\n",
    "#Standardize dfs\n",
    "sc = StandardScaler()\n",
    "X_train_sc = sc.fit_transform(X_train)\n",
    "X_val_sc = sc.fit_transform(X_val)\n",
    "n_features = X_train_sc.shape[1]\n",
    "\n",
    "#Convert non-fraud rows to pytorch tensor\n",
    "normal_train = X_train_sc[normal_inds,:]\n",
    "normal_torch = torch.from_numpy(normal_train,).type(torch.FloatTensor)\n",
    "\n",
    "#Convert train and val sets to pytorch tensor\n",
    "train_torch = torch.from_numpy(X_train_sc).type(torch.FloatTensor)\n",
    "val_torch = torch.from_numpy(X_val_sc).type(torch.FloatTensor)"
   ]
  },
  {
   "cell_type": "markdown",
   "metadata": {},
   "source": [
    "## Create autoencoder class "
   ]
  },
  {
   "cell_type": "code",
   "execution_count": 57,
   "metadata": {},
   "outputs": [],
   "source": [
    "class AutoEncoder(nn.Module):\n",
    "    \n",
    "    def __init__(self,n_features,hidden_nodes,dropout=None,VAE=False):\n",
    "        \n",
    "        '''PARAMETERS\n",
    "           n_features: number of X variables in dataset\n",
    "           hidden_nodes: number of nodes in hidden layer\n",
    "           dropout: fraction of nodes to dropout (0 < dropout <1)'''\n",
    "        \n",
    "        super(AutoEncoder, self).__init__()\n",
    "        self.n_features=n_features\n",
    "        self.n_hidden = hidden_nodes\n",
    "        self.encoder = nn.Linear(n_features,hidden_nodes)\n",
    "        self.decoder = nn.Linear(hidden_nodes,n_features)\n",
    "        self.output_layer = nn.Linear(n_features,n_features)\n",
    "        self.dropout = dropout\n",
    "        self.best_recon = None\n",
    "        \n",
    "        \n",
    "    def forward (self,x):\n",
    "        if self.dropout!=None:\n",
    "            x = F.relu(F.dropout(self.encoder(x),p=self.dropout))\n",
    "        else:\n",
    "            x = F.relu(self.encoder(x))\n",
    "        self.hidden_layer=x\n",
    "        x = F.relu(self.decoder(x))\n",
    "        x = self.output_layer(x)\n",
    "        return x\n",
    "    \n",
    "    "
   ]
  },
  {
   "cell_type": "code",
   "execution_count": 58,
   "metadata": {},
   "outputs": [],
   "source": [
    "def train_autoencoder(model, dataset, loss_func, optimizer, epochs=100, batch_size=1024,  \n",
    "                      validation_tensor=None,y_val=None, lr_rate_scheduler = None, noise_factor=None, \n",
    "                      random_seed=None, MSE_stopping_threshold=0):\n",
    "        '''PARAMETERS\n",
    "           model: instantiated autoencoder\n",
    "           dataset: torch tensor of X variables\n",
    "           loss_func: instantiated loss function\n",
    "           optimizer: instantiated optimizer\n",
    "           validation_tensor: torch tensor of validation X variables\n",
    "           y_val: numpy array of validation y values\n",
    "           epochs: number of epochs\n",
    "           lr_rate_scheduler: instantiated PyTorch learning rate scheduler\n",
    "           batch_size: batch size\n",
    "           noise_factor: magnitude of noise added to data\n",
    "             for a denoising autoencoder (0 < noise_factor <=1)\n",
    "           random_seed: random_seed\n",
    "           stopping_MSE_threshold: MSE value after which autoencoder stops training'''\n",
    "\n",
    "        \n",
    "        #Set up\n",
    "        if random_seed!=None:\n",
    "            torch.manual_seed(random_seed)\n",
    "        train_loader = torch.utils.data.DataLoader(dataset, \n",
    "                                                   batch_size=batch_size, \n",
    "                                                   shuffle=True)\n",
    "\n",
    "        if type(validation_tensor)==torch.Tensor:\n",
    "            val = True\n",
    "            val_numpy = validation_tensor.detach().numpy()\n",
    "        else:\n",
    "            val = False\n",
    "\n",
    "        readout_batch_interval = 0.25*(dataset.shape[0]/batch_size)//1\n",
    "        \n",
    "        #Training\n",
    "        for epoch in range(epochs):\n",
    "            counter = 0\n",
    "            print('\\n\\033[1mEpoch {}\\033[0m\\n'.format(epoch+1))\n",
    "            for batch in train_loader:\n",
    "\n",
    "                if noise_factor!=None:\n",
    "                    batch = batch + noise_factor * torch.randn(*batch.shape)\n",
    "                batch = torch.autograd.Variable(batch)\n",
    "                optimizer.zero_grad()\n",
    "                recon = model(batch)\n",
    "                loss = loss_func(recon, batch)\n",
    "                if counter%readout_batch_interval==0:\n",
    "                    print('Batch {} Loss: {:.4f}'.format(counter, float(loss)))\n",
    "                loss.backward()\n",
    "                optimizer.step()\n",
    "                counter+=1\n",
    "            \n",
    "            #Readout for each epoch\n",
    "            if epoch==0:\n",
    "                epoch_loss = loss_func(model(dataset), dataset)\n",
    "                print('\\nEPOCH {} LOSS: {:.4f}'.format(epoch+1, float(epoch_loss)))\n",
    "            else:\n",
    "                old_epoch_loss = epoch_loss\n",
    "                epoch_loss = loss_func(model(dataset), dataset)\n",
    "                print('\\nEPOCH {} LOSS: {:.4f}'.format(epoch+1, float(epoch_loss)))\n",
    "                \n",
    "            if val == True:\n",
    "                val_output = model(validation_tensor).detach().numpy()\n",
    "                reconstruction_error = np.sqrt(np.power(val_output - val_numpy, 2)).sum(axis=1)\n",
    "                reconstruction_error = sc.fit_transform(reconstruction_error.reshape(-1, 1))\n",
    "                sklogit = LogisticRegression()\n",
    "                if epoch==0:\n",
    "                    sklogit.fit(reconstruction_error,y_val)\n",
    "                    preds = sklogit.predict(reconstruction_error)\n",
    "                    score = recall_score(y_val,preds)\n",
    "                    model.best_recon=model.parameters()\n",
    "                    model.best_pr = score\n",
    "                    print('\\nReconstruction error recall: {:.4f}'.format(score))\n",
    "                else:\n",
    "                    old_score = score\n",
    "                    sklogit.fit(reconstruction_error,y_val)\n",
    "                    preds = sklogit.predict(reconstruction_error)\n",
    "                    score = recall_score(y_val,preds)\n",
    "                    if score<old_score:\n",
    "                        model.best_recon=model.parameters()\n",
    "                        model.best_recall = score\n",
    "                    print('\\nReconstruction error recall {:.4f}'.format(score))\n",
    "                    print('Change: {:.4f}%'.format(float((score-old_score)/old_score)))\n",
    "            if type(scheduler)==torch.optim.lr_scheduler.ReduceLROnPlateau:\n",
    "                scheduler.step(score) \n",
    "            if epoch_loss<=MSE_stopping_threshold:\n",
    "                break"
   ]
  },
  {
   "cell_type": "markdown",
   "metadata": {},
   "source": [
    "## Train Autoencoders"
   ]
  },
  {
   "cell_type": "markdown",
   "metadata": {},
   "source": [
    "### Autoencoder I: Undercomplete with Dropout"
   ]
  },
  {
   "cell_type": "markdown",
   "metadata": {},
   "source": [
    "#### Instantiate encoder and loss function"
   ]
  },
  {
   "cell_type": "code",
   "execution_count": 36,
   "metadata": {},
   "outputs": [],
   "source": [
    "ae1 = AutoEncoder(n_features,int(n_features*1.5//1),dropout=0.3)\n",
    "loss_func = nn.MSELoss()"
   ]
  },
  {
   "cell_type": "markdown",
   "metadata": {},
   "source": [
    "#### Train autoencoder"
   ]
  },
  {
   "cell_type": "code",
   "execution_count": null,
   "metadata": {},
   "outputs": [],
   "source": [
    "#Start with high learning rate\n",
    "optimizer = torch.optim.SGD(ae1.parameters(), lr=0.02, momentum=0.9,nesterov=True)\n",
    "scheduler = ReduceLROnPlateau(optimizer, mode='max', factor=0.9, patience=4, verbose=True)\n",
    "train_autoencoder(model=ae1,\n",
    "                   dataset=normal_torch,\n",
    "                   loss_func=loss_func,\n",
    "                   optimizer=optimizer,\n",
    "                   batch_size=256,\n",
    "                   epochs=100,\n",
    "                   lr_rate_scheduler=scheduler,\n",
    "                   validation_tensor=val_torch,\n",
    "                   y_val = y_val)"
   ]
  },
  {
   "cell_type": "markdown",
   "metadata": {},
   "source": [
    "#### Save results"
   ]
  },
  {
   "cell_type": "code",
   "execution_count": 39,
   "metadata": {},
   "outputs": [],
   "source": [
    "output1 = ae1(normal_torch)\n",
    "train_output1 = ae1(train_torch)\n",
    "val_output1 = ae1(val_torch)"
   ]
  },
  {
   "cell_type": "markdown",
   "metadata": {},
   "source": [
    "### Autoencoder II: L2 Regularization"
   ]
  },
  {
   "cell_type": "code",
   "execution_count": 32,
   "metadata": {},
   "outputs": [],
   "source": [
    "ae2 = AutoEncoder(n_features,n_features)\n",
    "loss_func = nn.MSELoss()"
   ]
  },
  {
   "cell_type": "code",
   "execution_count": null,
   "metadata": {},
   "outputs": [],
   "source": [
    "optimizer = torch.optim.RMSprop(ae2.parameters(), lr=0.2, weight_decay=0.25)\n",
    "scheduler = ReduceLROnPlateau(optimizer, mode='min', factor=0.9, patience=2, verbose=True)\n",
    "train_autoencoder(model=ae2,\n",
    "                   dataset=output1,\n",
    "                   loss_func=loss_func,\n",
    "                   optimizer=optimizer,\n",
    "                   batch_size=256,\n",
    "                   epochs=500,\n",
    "                   validation_tensor=val_torch,\n",
    "                   lr_rate_scheduler=scheduler,\n",
    "                   y_val=y_val)"
   ]
  },
  {
   "cell_type": "code",
   "execution_count": 43,
   "metadata": {},
   "outputs": [],
   "source": [
    "output2 = ae2(output1)\n",
    "train_output2 = ae2(train_output1)\n",
    "val_output2 = ae2(val_output1)"
   ]
  },
  {
   "cell_type": "markdown",
   "metadata": {},
   "source": [
    "### Autoencoder III: Denoising"
   ]
  },
  {
   "cell_type": "code",
   "execution_count": 46,
   "metadata": {},
   "outputs": [],
   "source": [
    "ae3 = AutoEncoder(n_features,n_features)\n",
    "loss_func = nn.MSELoss()"
   ]
  },
  {
   "cell_type": "code",
   "execution_count": null,
   "metadata": {},
   "outputs": [],
   "source": [
    "optimizer = torch.optim.SGD(ae3.parameters(), lr=0.2,momentum=0.9,nesterov=True)\n",
    "scheduler = ReduceLROnPlateau(optimizer, mode='min', factor=0.9, patience=2, verbose=True)\n",
    "train_autoencoder(model=ae3,\n",
    "                  dataset=output2,\n",
    "                  loss_func=loss_func,\n",
    "                  optimizer=optimizer,\n",
    "                  batch_size=512,\n",
    "                  epochs=10,\n",
    "                  noise_factor=0.9,\n",
    "                  validation_tensor=val_torch,\n",
    "                  y_val=y_val)"
   ]
  },
  {
   "cell_type": "code",
   "execution_count": 48,
   "metadata": {},
   "outputs": [],
   "source": [
    "output3 = ae3(output2)\n",
    "train_output3 = ae3(train_output2)\n",
    "val_output3 = ae3(val_output2)"
   ]
  },
  {
   "cell_type": "markdown",
   "metadata": {},
   "source": [
    "### Autoencoder IV: L1 Regularization"
   ]
  },
  {
   "cell_type": "code",
   "execution_count": 49,
   "metadata": {},
   "outputs": [],
   "source": [
    "ae4 = AutoEncoder(n_features,n_features)\n",
    "\n",
    "def L1_loss(recon,inputs):\n",
    "    MSELoss = nn.MSELoss()\n",
    "    loss = MSELoss(recon,inputs)\n",
    "    for param in ae4.parameters():\n",
    "        loss += lmbda*torch.sum(torch.abs(param))\n",
    "    return loss\n",
    "\n",
    "loss_func = L1_loss"
   ]
  },
  {
   "cell_type": "code",
   "execution_count": null,
   "metadata": {},
   "outputs": [],
   "source": [
    "lmbda=0.25\n",
    "optimizer = torch.optim.SGD(ae4.parameters(), lr=0.02,momentum=0.9,nesterov=True)\n",
    "scheduler = ReduceLROnPlateau(optimizer, mode='min', factor=0.9, patience=2, verbose=True)\n",
    "train_autoencoder(model=ae4,\n",
    "                  dataset=output3,\n",
    "                  loss_func=loss_func,\n",
    "                  optimizer=optimizer,\n",
    "                  batch_size=512,\n",
    "                  epochs=200,\n",
    "                  validation_tensor=val_torch,\n",
    "                  y_val=y_val)"
   ]
  },
  {
   "cell_type": "code",
   "execution_count": 53,
   "metadata": {},
   "outputs": [],
   "source": [
    "output4 = ae4(output3)\n",
    "train_output4 = ae4(train_output3)\n",
    "val_output4 = ae4(val_output3)"
   ]
  },
  {
   "cell_type": "markdown",
   "metadata": {},
   "source": [
    "### Autoencoder V: Kitchen Sink"
   ]
  },
  {
   "cell_type": "code",
   "execution_count": 61,
   "metadata": {},
   "outputs": [],
   "source": [
    "ae5 = AutoEncoder(n_features,int(n_features//4),dropout=0.5)\n",
    "loss_func = L1_loss"
   ]
  },
  {
   "cell_type": "code",
   "execution_count": null,
   "metadata": {},
   "outputs": [],
   "source": [
    "optimizer = torch.optim.RMSprop(ae5.parameters(), lr=0.02, weight_decay=0.5)\n",
    "train_autoencoder(model=ae5,\n",
    "                  dataset=output4,\n",
    "                  loss_func=loss_func,\n",
    "                  optimizer=optimizer,\n",
    "                  batch_size=1024,\n",
    "                  epochs=200,\n",
    "                  noise_factor=0.5,\n",
    "                  validation_tensor=val_torch,\n",
    "                  y_val=y_val)"
   ]
  },
  {
   "cell_type": "code",
   "execution_count": 63,
   "metadata": {},
   "outputs": [],
   "source": [
    "output5 = ae5(output4)\n",
    "train_output5 = ae5(train_output4)\n",
    "val_output5 = ae5(val_output4)"
   ]
  },
  {
   "cell_type": "markdown",
   "metadata": {},
   "source": [
    "### Add reconstruction score to DFs"
   ]
  },
  {
   "cell_type": "code",
   "execution_count": 69,
   "metadata": {},
   "outputs": [],
   "source": [
    "final_train_output = train_output5.detach().numpy()\n",
    "final_val_output = val_output5.detach().numpy()\n",
    "\n",
    "#calculate reconstruction score\n",
    "train_reconstruction_score = np.power(X_train_sc - final_train_output,2).sum(axis=1)\n",
    "train_reconstruction score = train_reconstruction_score/(train_reconstruction_score.max()-train_reconstruction_score.min())\n",
    "\n",
    "#normalize\n",
    "val_reconstruction_score = np.power(X_val_sc - final_val_output,2).sum(axis=1)\n",
    "val_reconstruction score = val_reconstruction_score/(val_reconstruction_score.max()-val_reconstruction_score.min())\n",
    "\n",
    "train_results['recon_score']=train_reconstruction_score\n",
    "val_results['recon_score']= val_reconstruction_score"
   ]
  },
  {
   "cell_type": "markdown",
   "metadata": {},
   "source": [
    "# Logistic Regression with L2 regularization on SMOTE data"
   ]
  },
  {
   "cell_type": "code",
   "execution_count": 59,
   "metadata": {},
   "outputs": [],
   "source": [
    "smote = SMOTE(n_jobs=-1)\n",
    "smote_train_X, smote_train_y = smote.fit_resample(X_train,y_train)\n",
    "sklearn = LogisticRegression()\n",
    "sklearn.fit(smote_train_X,smote_train_y)\n",
    "train_results['smote']=sklearn.predict_proba(X_train)[:,1]\n",
    "val_results['smote']=sklearn.predict_proba(X_val)[:,1]"
   ]
  },
  {
   "cell_type": "markdown",
   "metadata": {},
   "source": [
    "# Class-Weighted MLP"
   ]
  },
  {
   "cell_type": "markdown",
   "metadata": {},
   "source": [
    "### Add time data to columns"
   ]
  },
  {
   "cell_type": "code",
   "execution_count": 7,
   "metadata": {},
   "outputs": [],
   "source": [
    "X_train = X_train.join(time_df)\n",
    "X_val = X_val.join(time_df)"
   ]
  },
  {
   "cell_type": "markdown",
   "metadata": {},
   "source": [
    "### Preprocess data"
   ]
  },
  {
   "cell_type": "code",
   "execution_count": 65,
   "metadata": {},
   "outputs": [],
   "source": [
    "y_train_keras = to_categorical(y_train)\n",
    "y_val_keras = to_categorical(y_val)\n",
    "class_weights = {0:1,1:1/y_train.mean()}"
   ]
  },
  {
   "cell_type": "code",
   "execution_count": 66,
   "metadata": {},
   "outputs": [],
   "source": [
    "sc = StandardScaler()\n",
    "X_train_keras = sc.fit_transform(X_train)\n",
    "X_val_keras = sc.fit_transform(X_val)"
   ]
  },
  {
   "cell_type": "markdown",
   "metadata": {},
   "source": [
    "### Set checkpoint and learning rate scheduler"
   ]
  },
  {
   "cell_type": "code",
   "execution_count": 67,
   "metadata": {},
   "outputs": [],
   "source": [
    "scheduler = ReduceLROnPlateau(monitor='loss',\n",
    "                                factor=0.8, \n",
    "                                patience=10, \n",
    "                                verbose=1,\n",
    "                                mode='auto', \n",
    "                                min_delta=0.0001, \n",
    "                                cooldown=0, \n",
    "                                min_lr=0)\n",
    "checkpoint = ModelCheckpoint('checkpoint.best.hdf5',  verbose=1, save_best_only=True, mode='auto')"
   ]
  },
  {
   "cell_type": "markdown",
   "metadata": {},
   "source": [
    "### Instantiate and compile MLP"
   ]
  },
  {
   "cell_type": "code",
   "execution_count": 68,
   "metadata": {},
   "outputs": [],
   "source": [
    "nn = models.Sequential()\n",
    "nn.add(layers.Dropout(.3))\n",
    "nn.add(layers.Dense(128, input_shape=(val_results.shape[1],), activation='relu'))\n",
    "nn.add(layers.Dense(64,activation='relu',kernel_regularizer=regularizers.l2(0.01)))\n",
    "nn.add(layers.Dropout(.3))\n",
    "nn.add(layers.Dense(32,activation='relu'))\n",
    "nn.add(layers.Dense(16,activation='relu'))\n",
    "nn.add(layers.Dropout(.3))\n",
    "nn.add(layers.Dense(8,activation='relu'))\n",
    "nn.add(layers.Dense(4,activation='relu'))\n",
    "nn.add(layers.Dense(2,activation='sigmoid'))\n",
    "nn.compile(loss='binary_crossentropy', optimizer='adam')"
   ]
  },
  {
   "cell_type": "code",
   "execution_count": null,
   "metadata": {},
   "outputs": [],
   "source": [
    "nn = models.Sequential()\n",
    "nn.add(layers.Dropout(.3))\n",
    "nn.add(layers.Dense(64,activation='relu',kernel_regularizer=regularizers.l2(0.01)))\n",
    "nn.add(layers.Dropout(.3))\n",
    "nn.add(layers.Dense(32,activation='relu'))\n",
    "nn.add(layers.Dense(16,activation='relu'))\n",
    "nn.add(layers.Dropout(.3))\n",
    "nn.add(layers.Dense(8,activation='relu'))\n",
    "nn.add(layers.Dense(4,activation='relu'))\n",
    "nn.add(layers.Dense(2,activation='sigmoid'))\n",
    "nn.compile(loss='binary_crossentropy', optimizer='adam')"
   ]
  },
  {
   "cell_type": "markdown",
   "metadata": {},
   "source": [
    "## Train MLP"
   ]
  },
  {
   "cell_type": "code",
   "execution_count": null,
   "metadata": {},
   "outputs": [],
   "source": [
    "nn.fit(train_results.values, \n",
    "       y_train_keras, \n",
    "       epochs=1000, \n",
    "       class_weight=class_weights,\n",
    "       batch_size=512,\n",
    "       validation_data=(val_results.values,y_val_keras),\n",
    "       callbacks=[scheduler,checkpoint])"
   ]
  },
  {
   "cell_type": "markdown",
   "metadata": {},
   "source": [
    "## Get predictions from checkpoint"
   ]
  },
  {
   "cell_type": "code",
   "execution_count": 36,
   "metadata": {},
   "outputs": [],
   "source": [
    "results_nn = models.Sequential()\n",
    "results_nn.add(layers.Dense(128, input_shape=(X_train.shape[1],), activation='relu'))\n",
    "results_nn.add(layers.Dense(64,activation='relu',kernel_regularizer=regularizers.l2(0.01)))\n",
    "results_nn.add(layers.Dense(32,activation='relu'))\n",
    "results_nn.add(layers.Dense(16,activation='relu'))\n",
    "results_nn.add(layers.Dense(8,activation='relu'))\n",
    "results_nn.add(layers.Dense(4,activation='relu'))\n",
    "results_nn.add(layers.Dense(2,activation='sigmoid'))\n",
    "results_nn.load_weights('checkpoint.best.hdf5')\n",
    "results_nn.compile(loss='binary_crossentropy',optimizer='adam')\n",
    "\n",
    "val_preds = results_nn.predict(X_val_keras)\n",
    "train_preds = results_nn.predict(X_train_keras)\n",
    "\n",
    "train_results['mlp'] = train_preds[:,1]\n",
    "val_results['mlp'] = val_preds[:,1]"
   ]
  },
  {
   "cell_type": "markdown",
   "metadata": {},
   "source": [
    "# Run all results through FLIC to obtain final results"
   ]
  },
  {
   "cell_type": "code",
   "execution_count": 47,
   "metadata": {},
   "outputs": [
    {
     "data": {
      "text/plain": [
       "<matplotlib.legend.Legend at 0x1e9e4cb00>"
      ]
     },
     "execution_count": 47,
     "metadata": {},
     "output_type": "execute_result"
    },
    {
     "data": {
      "image/png": "[encoded data removed]",
      "text/plain": [
       "<Figure size 720x540 with 1 Axes>"
      ]
     },
     "metadata": {
      "needs_background": "light"
     },
     "output_type": "display_data"
    }
   ],
   "source": [
    "recalls = []\n",
    "auc_rocs = []\n",
    "log_losses =[]\n",
    "for col in val_results.columns:\n",
    "    recalls.append(recall_score(y_val,val_results[col].round()))\n",
    "    auc_rocs.append(roc_auc_score(y_val,val_results[col].round()))\n",
    "    log_losses.append(log_loss(y_val,val_results[col]))\n",
    "    \n",
    "estimators = list(val_results.columns)\n",
    "width = 0.25\n",
    "\n",
    "plt.figure(figsize=(10,7.5))\n",
    "r1 = np.arange(len(recalls))\n",
    "r2 = [i + width for i in r1]\n",
    "r3 = [i + width for i in r2]\n",
    "\n",
    "plt.bar(r1, recalls, color='red', width=width, edgecolor='white', label='Recall Score')\n",
    "plt.bar(r2, auc_rocs, color='blue', width=width, edgecolor='white', label='AUC ROC')\n",
    "plt.bar(r3, log_losses, color='yellow', width=width, edgecolor='white', label='Log Loss')\n",
    "\n",
    "plt.xlabel('Estimate', fontweight='bold')\n",
    "plt.xticks([i + width for i in range(len(recalls))], estimators)\n",
    "plt.legend()\n"
   ]
  },
  {
   "cell_type": "code",
   "execution_count": null,
   "metadata": {},
   "outputs": [],
   "source": [
    "FLIC = PMLE.PMLE.Firth_Logit(num_iters=100,lr=0.05,FLIC=True, metric='recall_score', readout_rate=10)\n",
    "train = np.zeros(X_train.shape[0])\n",
    "val = np.zeros(X_val.shape[0])\n",
    "for i in range(20):\n",
    "    print('Epoch:',i+1)\n",
    "    X = train_results[y_train==1].sample(frac=0.05).append(train_results[y_train==0].sample(frac=0.05))\n",
    "    y = y_train.loc[X.index]\n",
    "    FLIC.fit(X,y)\n",
    "    train = ((i)*train + FLIC.predict_proba(train_results))/(i+1)\n",
    "    val =  ((i)*val + FLIC.predict_proba(val_results))/(i+1)"
   ]
  },
  {
   "cell_type": "markdown",
   "metadata": {},
   "source": [
    "# Final validation set area under the ROC curve score"
   ]
  },
  {
   "cell_type": "code",
   "execution_count": 41,
   "metadata": {},
   "outputs": [
    {
     "data": {
      "text/plain": [
       "0.9884146871274243"
      ]
     },
     "execution_count": 41,
     "metadata": {},
     "output_type": "execute_result"
    }
   ],
   "source": [
    "roc_auc_score(y_val,val)"
   ]
  }
 ],
 "metadata": {
  "kernelspec": {
   "display_name": "Python 3",
   "language": "python",
   "name": "python3"
  },
  "language_info": {
   "codemirror_mode": {
    "name": "ipython",
    "version": 3
   },
   "file_extension": ".py",
   "mimetype": "text/x-python",
   "name": "python",
   "nbconvert_exporter": "python",
   "pygments_lexer": "ipython3",
   "version": "3.7.3"
  }
 },
 "nbformat": 4,
 "nbformat_minor": 2
}
